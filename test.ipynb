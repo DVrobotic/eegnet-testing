{
 "cells": [
  {
   "cell_type": "code",
   "execution_count": null,
   "metadata": {
    "collapsed": true
   },
   "outputs": [],
   "source": []
  },
  {
   "cell_type": "code",
   "execution_count": 9,
   "outputs": [
    {
     "data": {
      "text/plain": "Index(['eegnet sujeito 1 kappa', 'eegnet sujeito 2 kappa',\n       'eegnet sujeito 3 kappa', 'eegnet sujeito 4 kappa',\n       'eegnet sujeito 5 kappa', 'eegnet sujeito 6 kappa',\n       'eegnet sujeito 7 kappa', 'eegnet sujeito 8 kappa',\n       'eegnet sujeito 9 kappa', 'eegnet + temporal sujeito 1 kappa',\n       'eegnet + temporal sujeito 2 kappa',\n       'eegnet + temporal sujeito 3 kappa',\n       'eegnet + temporal sujeito 4 kappa',\n       'eegnet + temporal sujeito 5 kappa',\n       'eegnet + temporal sujeito 6 kappa',\n       'eegnet + temporal sujeito 7 kappa',\n       'eegnet + temporal sujeito 8 kappa',\n       'eegnet + temporal sujeito 9 kappa', 'eegnet + spatial sujeito 1 kappa',\n       'eegnet + spatial sujeito 2 kappa', 'eegnet + spatial sujeito 3 kappa',\n       'eegnet + spatial sujeito 4 kappa', 'eegnet + spatial sujeito 5 kappa',\n       'eegnet + spatial sujeito 6 kappa', 'eegnet + spatial sujeito 7 kappa',\n       'eegnet + spatial sujeito 8 kappa', 'eegnet + spatial sujeito 9 kappa',\n       'eegnet + spatial + temporal sujeito 1 kappa'],\n      dtype='object')"
     },
     "execution_count": 9,
     "metadata": {},
     "output_type": "execute_result"
    }
   ],
   "source": [
    "import pandas as pd\n",
    "teste = pd.read_csv('resultados_paper.csv')\n",
    "teste.columns[pd.Series(teste.columns).str.contains('kappa')]"
   ],
   "metadata": {
    "collapsed": false
   }
  },
  {
   "cell_type": "code",
   "execution_count": null,
   "outputs": [],
   "source": [],
   "metadata": {
    "collapsed": false
   }
  }
 ],
 "metadata": {
  "kernelspec": {
   "display_name": "Python 3",
   "language": "python",
   "name": "python3"
  },
  "language_info": {
   "codemirror_mode": {
    "name": "ipython",
    "version": 2
   },
   "file_extension": ".py",
   "mimetype": "text/x-python",
   "name": "python",
   "nbconvert_exporter": "python",
   "pygments_lexer": "ipython2",
   "version": "2.7.6"
  }
 },
 "nbformat": 4,
 "nbformat_minor": 0
}
