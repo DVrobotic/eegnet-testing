{
 "cells": [
  {
   "cell_type": "code",
   "execution_count": 56,
   "metadata": {
    "collapsed": true
   },
   "outputs": [],
   "source": [
    "import sys\n",
    "import random\n",
    "import numpy as np\n",
    "import matplotlib.pyplot as plt\n",
    "import torch\n",
    "import torch.nn.functional as F\n",
    "import torch.nn as nn\n",
    "import os\n",
    "os.environ['KMP_DUPLICATE_LIB_OK'] = 'True'\n",
    "%matplotlib inline"
   ]
  },
  {
   "cell_type": "code",
   "execution_count": 57,
   "outputs": [],
   "source": [
    "device = 'cuda' if torch.cuda.is_available() else 'cpu'"
   ],
   "metadata": {
    "collapsed": false
   }
  },
  {
   "cell_type": "code",
   "execution_count": 61,
   "outputs": [],
   "source": [
    "class DepthWiseConv2d(nn.Module):\n",
    "    def __init__(self, in_channels, kernel_size, kernels_per_layer, bias=False):\n",
    "        super().__init__()\n",
    "        self.depthwise = nn.Conv2d(in_channels=in_channels, out_channels=in_channels*kernels_per_layer, kernel_size=kernel_size, groups=in_channels, bias=bias, padding='same')\n",
    "    def forward(self, x):\n",
    "        return self.depthwise(x)\n",
    "\n",
    "class PointWiseConv2d(nn.Module):\n",
    "    def __init__(self, in_channels, out_channels, kernels_per_layer=1, bias=False):\n",
    "        super().__init__()\n",
    "        self.pointwise = nn.Conv2d(in_channels=in_channels*kernels_per_layer, out_channels=out_channels,\n",
    "                                   kernel_size=(1,1), bias=bias, padding=\"valid\")\n",
    "\n",
    "    def forward(self, x):\n",
    "        return self.pointwise(x)\n",
    "\n",
    "class MaxNormLayer(nn.Linear):\n",
    "    def __init__(self, in_features, out_features, max_norm=1.0,):\n",
    "        super(MaxNormLayer, self).__init__(in_features=in_features, out_features=out_features)\n",
    "        self.max_norm = max_norm\n",
    "\n",
    "    def forward(self, x):\n",
    "        if self.max_norm is not None:\n",
    "            with torch.no_grad():\n",
    "                self.weight.data = torch.renorm(\n",
    "                    self.weight.data, p=2, dim=0, maxnorm=self.max_norm\n",
    "                )\n",
    "        return super(MaxNormLayer, self).forward(x)\n",
    "\n",
    "class SeparableConv2d(nn.Module):\n",
    "    def __init__(self, in_channels, out_channels, kernel_size, kernels_per_layer=1, bias=False):\n",
    "        super().__init__()\n",
    "        self.depthwise = DepthWiseConv2d(in_channels=in_channels, kernels_per_layer=kernels_per_layer, kernel_size=kernel_size, bias=bias)\n",
    "        self.pointwise = PointWiseConv2d(in_channels=in_channels, out_channels=out_channels, kernels_per_layer=kernels_per_layer, bias=bias)\n",
    "\n",
    "    def forward(self, x):\n",
    "        x = self.depthwise(x)\n",
    "        x = self.pointwise(x)\n",
    "        return x"
   ],
   "metadata": {
    "collapsed": false
   }
  },
  {
   "cell_type": "markdown",
   "source": [
    "possíveis melhorias:\n",
    "1 - trocar batchnorm por layernorm\n",
    "2 - aplicação de transformer"
   ],
   "metadata": {
    "collapsed": false
   }
  },
  {
   "cell_type": "code",
   "execution_count": 144,
   "outputs": [],
   "source": [
    "class EEGNET(nn.Module):\n",
    "    def __init__(\n",
    "        self,\n",
    "        n_channels,\n",
    "        n_times,\n",
    "        n_classes,\n",
    "        kernel_length=64,\n",
    "        F1=8,\n",
    "        D=2,\n",
    "        F2=16,\n",
    "        pool1_stride=4,\n",
    "        pool2_stride=8,\n",
    "        dropout_rate=0.5,\n",
    "        norm_rate=0.25,\n",
    "    ):\n",
    "        super().__init__()\n",
    "        #block 1\n",
    "        self.conv2d = nn.Conv2d(in_channels=n_channels, out_channels=F1, kernel_size=(1, kernel_length), bias=False, padding='same')\n",
    "        self.batchNorm = nn.BatchNorm2d(num_features=F1, momentum=0.01, eps=0.001, track_running_stats=False)\n",
    "        self.depthWise = DepthWiseConv2d(in_channels=F1, kernel_size=(n_channels, 1), kernels_per_layer=D, bias=False) #equivalente a convolução depth wise\n",
    "        #---------------------------------------------------------------------\n",
    "\n",
    "        #block 2\n",
    "        self.batchNorm2 = nn.BatchNorm2d(num_features=F1*D, momentum=0.01, eps=0.001, track_running_stats=False)\n",
    "        self.elu1 = nn.ELU()\n",
    "        self.avgPool2d = nn.AvgPool2d(kernel_size=(1, pool1_stride), stride=pool1_stride)\n",
    "        self.dropout1 = nn.Dropout(dropout_rate)\n",
    "        self.separableConv2d = SeparableConv2d(in_channels=F1*D, kernel_size=(1, 16), out_channels=F2, bias=False)\n",
    "        self.batchNorm3 = nn.BatchNorm2d(num_features=F2, momentum=0.01, eps=0.001, track_running_stats=False)\n",
    "        self.elu2 = nn.ELU()\n",
    "        self.avgPool2d_2 = nn.AvgPool2d(kernel_size=(1, pool2_stride), stride=pool2_stride)\n",
    "        self.dropout2 = nn.Dropout(dropout_rate)\n",
    "        #---------------------------------------------------------------------\n",
    "\n",
    "        #final block\n",
    "        self.flatten = nn.Flatten()\n",
    "        self.maxNormLayer = MaxNormLayer(in_features = F2 * ((((n_times - pool1_stride) // pool1_stride + 1) - pool2_stride) // pool2_stride + 1), out_features=n_classes, max_norm=norm_rate)\n",
    "        self.softmax = nn.Softmax(dim=1)\n",
    "\n",
    "    def forward(self, x):\n",
    "        out = x.view((1,) + x.shape) # channel, batch, time (conv_depth, C, B, T)\n",
    "        out = self.conv2d(out) # (conv_depth, F1, F1//2, T)\n",
    "        out = self.batchNorm(out) # (conv_depth, F1, F1//2, T)\n",
    "        out = self.depthWise(out) # (conv_depth, F1*D, F1//2, T)\n",
    "        out = self.batchNorm2(out) # (conv_depth, F1*D, F1//2, T)\n",
    "        out = self.elu1(out) # (conv_depth, F1*D, F1//2, T)\n",
    "        out = self.avgPool2d(out) # (conv_depth, F1*D, max(1, F1//(2*pool1_stride)), max(1, T//(2*pool1_stride)))\n",
    "        out = self.dropout1(out) # (conv_depth, F1*D, max(1, F1//(2*pool1_stride)), max(1, T//(2*pool1_stride)))\n",
    "        out = self.separableConv2d(out) # (conv_depth, F1*D, max(1, F1//(2*pool1_stride)), max(1, T//(2*pool1_stride)))\n",
    "        out = self.batchNorm3(out) # (conv_depth, F1*D, max(1, F1//(2*pool1_stride)), max(1, T//(2*pool1_stride)))\n",
    "        out = self.elu2(out) # (conv_depth, F1*D, max(1, F1//(2*pool1_stride)), max(1, T//(2*pool1_stride)))\n",
    "        print(out.shape)\n",
    "        out = self.avgPool2d_2(out) # (conv_depth, F1*D, F1//(2*pool1_stride), T//F2)\n",
    "        print(out.shape)\n",
    "        out = self.dropout2(out) # (conv_depth, F1*D, F1//(2*pool1_stride), T//F2)\n",
    "        print(out.shape)\n",
    "        out = self.flatten(out) # (conv_depth, (F1*D) * (F1//(2*4)) * (T//F2) )\n",
    "        print(out.shape)\n",
    "        out = self.maxNormLayer(out) # (conv_depth, n_classes)\n",
    "        out = self.softmax(out) # (conv_depth, n_classes)\n",
    "        return out\n",
    "\n"
   ],
   "metadata": {
    "collapsed": false
   }
  },
  {
   "cell_type": "code",
   "execution_count": 150,
   "outputs": [
    {
     "name": "stdout",
     "output_type": "stream",
     "text": [
      "torch.Size([1, 16, 1, 64])\n",
      "torch.Size([1, 16, 1, 8])\n",
      "torch.Size([1, 16, 1, 8])\n",
      "torch.Size([1, 128])\n"
     ]
    },
    {
     "data": {
      "text/plain": "tensor([[0.0657, 0.0591, 0.0584, 0.0696, 0.0593, 0.0756, 0.0620, 0.0523, 0.0547,\n         0.0734, 0.0629, 0.0599, 0.0590, 0.0571, 0.0555, 0.0755]],\n       grad_fn=<SoftmaxBackward0>)"
     },
     "execution_count": 150,
     "metadata": {},
     "output_type": "execute_result"
    }
   ],
   "source": [
    "model = EEGNET(n_channels=16, n_times=256, n_classes=16)\n",
    "example = torch.randn((16, 1, 256), device=device) #channel, batch, time (C, B, T)\n",
    "out = model(example)\n",
    "out"
   ],
   "metadata": {
    "collapsed": false
   }
  },
  {
   "cell_type": "code",
   "execution_count": null,
   "outputs": [],
   "source": [],
   "metadata": {
    "collapsed": false
   }
  }
 ],
 "metadata": {
  "kernelspec": {
   "display_name": "Python 3",
   "language": "python",
   "name": "python3"
  },
  "language_info": {
   "codemirror_mode": {
    "name": "ipython",
    "version": 2
   },
   "file_extension": ".py",
   "mimetype": "text/x-python",
   "name": "python",
   "nbconvert_exporter": "python",
   "pygments_lexer": "ipython2",
   "version": "2.7.6"
  }
 },
 "nbformat": 4,
 "nbformat_minor": 0
}
