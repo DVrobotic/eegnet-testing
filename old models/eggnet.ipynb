{
 "cells": [
  {
   "cell_type": "code",
   "execution_count": 1,
   "metadata": {
    "collapsed": true
   },
   "outputs": [
    {
     "ename": "KeyboardInterrupt",
     "evalue": "",
     "output_type": "error",
     "traceback": [
      "\u001B[1;31m---------------------------------------------------------------------------\u001B[0m",
      "\u001B[1;31mKeyboardInterrupt\u001B[0m                         Traceback (most recent call last)",
      "\u001B[1;32m~\\AppData\\Local\\Temp\\ipykernel_65036\\1093872144.py\u001B[0m in \u001B[0;36m<module>\u001B[1;34m\u001B[0m\n\u001B[0;32m      3\u001B[0m \u001B[1;32mimport\u001B[0m \u001B[0mnumpy\u001B[0m \u001B[1;32mas\u001B[0m \u001B[0mnp\u001B[0m\u001B[1;33m\u001B[0m\u001B[1;33m\u001B[0m\u001B[0m\n\u001B[0;32m      4\u001B[0m \u001B[1;32mimport\u001B[0m \u001B[0mmatplotlib\u001B[0m\u001B[1;33m.\u001B[0m\u001B[0mpyplot\u001B[0m \u001B[1;32mas\u001B[0m \u001B[0mplt\u001B[0m\u001B[1;33m\u001B[0m\u001B[1;33m\u001B[0m\u001B[0m\n\u001B[1;32m----> 5\u001B[1;33m \u001B[1;32mimport\u001B[0m \u001B[0mtorch\u001B[0m\u001B[1;33m\u001B[0m\u001B[1;33m\u001B[0m\u001B[0m\n\u001B[0m\u001B[0;32m      6\u001B[0m \u001B[1;32mimport\u001B[0m \u001B[0mtorch\u001B[0m\u001B[1;33m.\u001B[0m\u001B[0mnn\u001B[0m\u001B[1;33m.\u001B[0m\u001B[0mfunctional\u001B[0m \u001B[1;32mas\u001B[0m \u001B[0mF\u001B[0m\u001B[1;33m\u001B[0m\u001B[1;33m\u001B[0m\u001B[0m\n\u001B[0;32m      7\u001B[0m \u001B[1;32mimport\u001B[0m \u001B[0mtorch\u001B[0m\u001B[1;33m.\u001B[0m\u001B[0mnn\u001B[0m \u001B[1;32mas\u001B[0m \u001B[0mnn\u001B[0m\u001B[1;33m\u001B[0m\u001B[1;33m\u001B[0m\u001B[0m\n",
      "\u001B[1;32m~\\anaconda3\\lib\\site-packages\\torch\\__init__.py\u001B[0m in \u001B[0;36m<module>\u001B[1;34m\u001B[0m\n\u001B[0;32m    121\u001B[0m         \u001B[0mis_loaded\u001B[0m \u001B[1;33m=\u001B[0m \u001B[1;32mFalse\u001B[0m\u001B[1;33m\u001B[0m\u001B[1;33m\u001B[0m\u001B[0m\n\u001B[0;32m    122\u001B[0m         \u001B[1;32mif\u001B[0m \u001B[0mwith_load_library_flags\u001B[0m\u001B[1;33m:\u001B[0m\u001B[1;33m\u001B[0m\u001B[1;33m\u001B[0m\u001B[0m\n\u001B[1;32m--> 123\u001B[1;33m             \u001B[0mres\u001B[0m \u001B[1;33m=\u001B[0m \u001B[0mkernel32\u001B[0m\u001B[1;33m.\u001B[0m\u001B[0mLoadLibraryExW\u001B[0m\u001B[1;33m(\u001B[0m\u001B[0mdll\u001B[0m\u001B[1;33m,\u001B[0m \u001B[1;32mNone\u001B[0m\u001B[1;33m,\u001B[0m \u001B[1;36m0x00001100\u001B[0m\u001B[1;33m)\u001B[0m\u001B[1;33m\u001B[0m\u001B[1;33m\u001B[0m\u001B[0m\n\u001B[0m\u001B[0;32m    124\u001B[0m             \u001B[0mlast_error\u001B[0m \u001B[1;33m=\u001B[0m \u001B[0mctypes\u001B[0m\u001B[1;33m.\u001B[0m\u001B[0mget_last_error\u001B[0m\u001B[1;33m(\u001B[0m\u001B[1;33m)\u001B[0m\u001B[1;33m\u001B[0m\u001B[1;33m\u001B[0m\u001B[0m\n\u001B[0;32m    125\u001B[0m             \u001B[1;32mif\u001B[0m \u001B[0mres\u001B[0m \u001B[1;32mis\u001B[0m \u001B[1;32mNone\u001B[0m \u001B[1;32mand\u001B[0m \u001B[0mlast_error\u001B[0m \u001B[1;33m!=\u001B[0m \u001B[1;36m126\u001B[0m\u001B[1;33m:\u001B[0m\u001B[1;33m\u001B[0m\u001B[1;33m\u001B[0m\u001B[0m\n",
      "\u001B[1;31mKeyboardInterrupt\u001B[0m: "
     ]
    }
   ],
   "source": [
    "import sys\n",
    "import random\n",
    "import numpy as np\n",
    "import matplotlib.pyplot as plt\n",
    "import torch\n",
    "import torch.nn.functional as F\n",
    "import torch.nn as nn\n",
    "import os\n",
    "from sklearn.model_selection import StratifiedKFold\n",
    "os.environ['KMP_DUPLICATE_LIB_OK'] = 'True'\n",
    "%matplotlib inline"
   ]
  },
  {
   "cell_type": "code",
   "execution_count": null,
   "outputs": [],
   "source": [
    "device = 'cuda' if torch.cuda.is_available() else 'cpu'"
   ],
   "metadata": {
    "collapsed": false
   }
  },
  {
   "cell_type": "code",
   "execution_count": null,
   "outputs": [],
   "source": [
    "class DepthWiseConv2d(nn.Module):\n",
    "    def __init__(self, in_channels, kernel_size, kernels_per_layer, bias=False):\n",
    "        super().__init__()\n",
    "        self.depthwise = nn.Conv2d(in_channels=in_channels, out_channels=in_channels*kernels_per_layer, kernel_size=kernel_size, groups=in_channels, bias=bias, padding='same')\n",
    "    def forward(self, x):\n",
    "        return self.depthwise(x)\n",
    "\n",
    "class PointWiseConv2d(nn.Module):\n",
    "    def __init__(self, in_channels, out_channels, kernels_per_layer=1, bias=False):\n",
    "        super().__init__()\n",
    "        self.pointwise = nn.Conv2d(in_channels=in_channels*kernels_per_layer, out_channels=out_channels,\n",
    "                                   kernel_size=(1,1), bias=bias, padding=\"valid\")\n",
    "\n",
    "    def forward(self, x):\n",
    "        return self.pointwise(x)\n",
    "\n",
    "class MaxNormLayer(nn.Linear):\n",
    "    def __init__(self, in_features, out_features, max_norm=1.0,):\n",
    "        super(MaxNormLayer, self).__init__(in_features=in_features, out_features=out_features)\n",
    "        self.max_norm = max_norm\n",
    "\n",
    "    def forward(self, x):\n",
    "        if self.max_norm is not None:\n",
    "            with torch.no_grad():\n",
    "                self.weight.data = torch.renorm(\n",
    "                    self.weight.data, p=2, dim=0, maxnorm=self.max_norm\n",
    "                )\n",
    "        return super(MaxNormLayer, self).forward(x)\n",
    "\n",
    "class SeparableConv2d(nn.Module):\n",
    "    def __init__(self, in_channels, out_channels, kernel_size, kernels_per_layer=1, bias=False):\n",
    "        super().__init__()\n",
    "        self.depthwise = DepthWiseConv2d(in_channels=in_channels, kernels_per_layer=kernels_per_layer, kernel_size=kernel_size, bias=bias)\n",
    "        self.pointwise = PointWiseConv2d(in_channels=in_channels, out_channels=out_channels, kernels_per_layer=kernels_per_layer, bias=bias)\n",
    "\n",
    "    def forward(self, x):\n",
    "        x = self.depthwise(x)\n",
    "        x = self.pointwise(x)\n",
    "        return x"
   ],
   "metadata": {
    "collapsed": false
   }
  },
  {
   "cell_type": "markdown",
   "source": [
    "possíveis melhorias:\n",
    "1 - trocar batchnorm por layernorm\n",
    "2 - aplicação de transformer"
   ],
   "metadata": {
    "collapsed": false
   }
  },
  {
   "cell_type": "code",
   "execution_count": null,
   "outputs": [],
   "source": [
    "class EEGNET(nn.Module):\n",
    "    def __init__(\n",
    "        self,\n",
    "        n_channels,\n",
    "        n_times,\n",
    "        n_classes,\n",
    "        kernel_length=64,\n",
    "        F1=8,\n",
    "        D=2,\n",
    "        F2=16,\n",
    "        pool1_stride=4,\n",
    "        pool2_stride=8,\n",
    "        dropout_rate=0.5,\n",
    "        norm_rate=0.25,\n",
    "    ):\n",
    "        super().__init__()\n",
    "        #block 1\n",
    "        self.conv2d = nn.Conv2d(in_channels=n_channels, out_channels=F1, kernel_size=(1, kernel_length), bias=False, padding='same')\n",
    "        self.batchNorm = nn.BatchNorm2d(num_features=F1, momentum=0.01, eps=0.001, track_running_stats=False)\n",
    "        self.depthWise = DepthWiseConv2d(in_channels=F1, kernel_size=(n_channels, 1), kernels_per_layer=D, bias=False) #equivalente a convolução depth wise\n",
    "        #---------------------------------------------------------------------\n",
    "\n",
    "        #block 2\n",
    "        self.batchNorm2 = nn.BatchNorm2d(num_features=F1*D, momentum=0.01, eps=0.001, track_running_stats=False)\n",
    "        self.elu1 = nn.ELU()\n",
    "        self.avgPool2d = nn.AvgPool2d(kernel_size=(1, pool1_stride), stride=pool1_stride)\n",
    "        self.dropout1 = nn.Dropout(dropout_rate)\n",
    "        self.separableConv2d = SeparableConv2d(in_channels=F1*D, kernel_size=(1, 16), out_channels=F2, bias=False)\n",
    "        self.batchNorm3 = nn.BatchNorm2d(num_features=F2, momentum=0.01, eps=0.001, track_running_stats=False)\n",
    "        self.elu2 = nn.ELU()\n",
    "        self.avgPool2d_2 = nn.AvgPool2d(kernel_size=(1, pool2_stride), stride=pool2_stride)\n",
    "        self.dropout2 = nn.Dropout(dropout_rate)\n",
    "        #---------------------------------------------------------------------\n",
    "\n",
    "        #final block\n",
    "        self.flatten = nn.Flatten()\n",
    "        self.maxNormLayer = MaxNormLayer(in_features = F2 * ((((n_times - pool1_stride) // pool1_stride + 1) - pool2_stride) // pool2_stride + 1), out_features=n_classes, max_norm=norm_rate)\n",
    "        self.softmax = nn.Softmax(dim=1)\n",
    "\n",
    "    def forward(self, x, targets):\n",
    "        out = x.view((x.shape[0], x.shape[1], 1, x.shape[2])) # channel, batch, time (conv_depth, C, B, T)\n",
    "        out = self.conv2d(out) # (B, F1, F1//2, T)\n",
    "        out = self.batchNorm(out) # (B, F1, F1//2, T)\n",
    "        out = self.depthWise(out) # (B, F1*D, F1//2, T)\n",
    "        out = self.batchNorm2(out) # (B, F1*D, F1//2, T)\n",
    "        out = self.elu1(out) # (B, F1*D, F1//2, T)\n",
    "        out = self.avgPool2d(out) # (B, F1*D, max(1, F1//(2*pool1_stride)), max(1, T//(2*pool1_stride)))\n",
    "        out = self.dropout1(out) # (B, F1*D, max(1, F1//(2*pool1_stride)), max(1, T//(2*pool1_stride)))\n",
    "        out = self.separableConv2d(out) # (B, F1*D, max(1, F1//(2*pool1_stride)), max(1, T//(2*pool1_stride)))\n",
    "        out = self.batchNorm3(out) # (B, F1*D, max(1, F1//(2*pool1_stride)), max(1, T//(2*pool1_stride)))\n",
    "        out = self.elu2(out) # (B, F1*D, max(1, F1//(2*pool1_stride)), max(1, T//(2*pool1_stride)))\n",
    "        out = self.avgPool2d_2(out) # (B, F1*D, F1//(2*pool1_stride), T//F2)\n",
    "        out = self.dropout2(out) # (B, F1*D, F1//(2*pool1_stride), T//F2)\n",
    "        out = self.flatten(out) # (B, (F1*D) * (F1//(2*4)) * (T//F2) )\n",
    "        out = self.maxNormLayer(out) # (B, n_classes)\n",
    "        logits = self.softmax(out) # (B, n_classes)\n",
    "\n",
    "        if targets is None:\n",
    "            loss = None\n",
    "        else:\n",
    "            loss = F.cross_entropy(logits, targets)\n",
    "\n",
    "\n",
    "        return logits, loss\n",
    "\n"
   ],
   "metadata": {
    "collapsed": false
   }
  },
  {
   "cell_type": "code",
   "execution_count": null,
   "outputs": [],
   "source": [
    "class TrainerTester:\n",
    "\n",
    "    @staticmethod\n",
    "    def train_loop(model, optimizer, X, y, batch_size=32, iterations=1000):\n",
    "        lossi = []\n",
    "        for k in range(iterations):\n",
    "            batch_indexes = torch.randint(0, X.shape[0], (batch_size,))\n",
    "            X_batch, y_batch = X[batch_indexes], y[batch_indexes] # batch X,Y\n",
    "            pred, loss = model(X_batch, y_batch)\n",
    "\n",
    "            # Backpropagation\n",
    "            optimizer.zero_grad()\n",
    "            loss.backward()\n",
    "            optimizer.step()\n",
    "\n",
    "            if k % 100 == 0:\n",
    "                print(f\"loss: {loss} iteration: {k}/{iterations}\")\n",
    "\n",
    "            #tracking\n",
    "            lossi.append(loss.item())\n",
    "\n",
    "        return lossi\n",
    "\n",
    "    @staticmethod\n",
    "    def test_loop(model, Xtest, ytest):\n",
    "        model.eval()\n",
    "        X_batch, y_batch = Xtest, ytest\n",
    "\n",
    "        with torch.no_grad():\n",
    "            pred, loss = model(X_batch, y_batch)\n",
    "            correct = (pred.argmax(1) == y_batch).type(torch.float32).sum().item() / y_batch.shape[0]\n",
    "\n",
    "        print(f\"Test loss: {loss:>8f} \\n Accuracy: {correct:>8f} \\n\")\n",
    "        model.train()\n",
    "\n",
    "    @staticmethod\n",
    "    def test_and_show(model, Xtest, ytest):\n",
    "        model.eval()\n",
    "        X_batch, y_batch = Xtest, ytest\n",
    "        with torch.no_grad():\n",
    "            pred, loss = model(X_batch, y_batch)\n",
    "            print('shapes: ', pred.shape, y_batch.shape)\n",
    "            accuracy = pred.argmax(1) == y_batch\n",
    "            model.train()\n",
    "            return accuracy"
   ],
   "metadata": {
    "collapsed": false
   }
  },
  {
   "cell_type": "code",
   "execution_count": null,
   "outputs": [],
   "source": [
    "import mne\n",
    "from moabb.datasets import BNCI2014001\n",
    "\n",
    "\n",
    "class BciDataHandler:\n",
    "    def __init__(self):\n",
    "        self.data = BNCI2014001()\n",
    "        self.subjects_epochs = {}\n",
    "        self.subjects_labels = {}\n",
    "        self.subjects_id = [1, 2, 3, 4, 5, 6, 7, 8, 9]\n",
    "        self.sessions_id = ['session_T', 'session_E']\n",
    "        self.runs_id = ['run_0', 'run_1', 'run_2', 'run_3', 'run_4', 'run_5']\n",
    "        self.events_desc = {'left_hand': 1, 'right_hand': 2, 'both_feet': 3, 'tongue': 4}\n",
    "        self.tmin, self.tmax, self.t_crop = -.5, 4.5, .5\n",
    "        self.selected_events = ['left_hand', 'right_hand', 'both_feet', 'tongue']\n",
    "        self.raw = self.data.get_data(subjects=self.subjects_id)\n",
    "        self.picks = mne.pick_types(self.raw[1]['session_T']['run_0'].info, eeg=True, stim=False)\n",
    "\n",
    "    def instantiate_dataset(self):\n",
    "        for subject_id in self.subjects_id:\n",
    "            print('subject_id: ', subject_id)\n",
    "            epochs = []\n",
    "            for session_id in self.sessions_id:\n",
    "                print('session_id: ', session_id)\n",
    "                for run_id in self.runs_id:\n",
    "                    loop_raw = self.raw[subject_id][session_id][run_id]\n",
    "                    events = mne.find_events(loop_raw, 'stim')\n",
    "                    run_epochs = mne.Epochs(\n",
    "                        loop_raw,\n",
    "                        events,\n",
    "                        self.events_desc,\n",
    "                        picks=self.picks,\n",
    "                        tmin=self.tmin,\n",
    "                        tmax=self.tmax,\n",
    "                        preload=True\n",
    "                    )[self.selected_events]\n",
    "                    epochs.append(run_epochs)\n",
    "\n",
    "            self.subjects_epochs[subject_id] = (mne.concatenate_epochs(epochs)).filter(5, 60)\n",
    "            self.subjects_labels[subject_id] = [event[2] for event in self.subjects_epochs[subject_id].events]\n"
   ],
   "metadata": {
    "collapsed": false
   }
  },
  {
   "cell_type": "code",
   "execution_count": null,
   "outputs": [],
   "source": [
    "data_handler = BciDataHandler()"
   ],
   "metadata": {
    "collapsed": false
   }
  },
  {
   "cell_type": "code",
   "execution_count": null,
   "outputs": [],
   "source": [
    "data_handler.instantiate_dataset()"
   ],
   "metadata": {
    "collapsed": false
   }
  },
  {
   "cell_type": "code",
   "execution_count": null,
   "outputs": [],
   "source": [
    "model = EEGNET(n_channels=len(data_handler.picks), n_times=1251, n_classes=len(data_handler.selected_events))"
   ],
   "metadata": {
    "collapsed": false
   }
  },
  {
   "cell_type": "code",
   "execution_count": null,
   "outputs": [],
   "source": [
    "optimizer = torch.optim.AdamW(model.parameters(), lr=1e-3)"
   ],
   "metadata": {
    "collapsed": false
   }
  },
  {
   "cell_type": "code",
   "execution_count": null,
   "outputs": [],
   "source": [
    "data_handler.subjects_epochs"
   ],
   "metadata": {
    "collapsed": false
   }
  },
  {
   "cell_type": "code",
   "execution_count": null,
   "outputs": [],
   "source": [
    "seed = 1337\n",
    "splits = 5\n",
    "\n",
    "X = torch.tensor(data_handler.subjects_epochs[1].get_data()).to(dtype=torch.float32, device=device)\n",
    "y = torch.tensor(data_handler.subjects_labels[1]).to(dtype=torch.long, device=device) - 1\n",
    "\n",
    "skf = StratifiedKFold(n_splits=5, random_state=seed, shuffle=True)"
   ],
   "metadata": {
    "collapsed": false
   }
  },
  {
   "cell_type": "code",
   "execution_count": null,
   "outputs": [],
   "source": [
    "#main-trianing-loop\n",
    "for train_index, test_index in skf.split(X, y):\n",
    "    X_train, X_test = X[train_index], X[test_index]\n",
    "    y_train, y_test = y[train_index], y[test_index]\n",
    "    TrainerTester.train_loop(model, optimizer, X_train, y_train)\n",
    "    TrainerTester.test_loop(model, X_test, y_test)"
   ],
   "metadata": {
    "collapsed": false
   }
  },
  {
   "cell_type": "code",
   "execution_count": null,
   "outputs": [],
   "source": [
    "accuracy = []\n",
    "for train_index, test_index in skf.split(X, y):\n",
    "    X_train, X_test = X[train_index], X[test_index]\n",
    "    y_train, y_test = y[train_index], y[test_index]\n",
    "    TrainerTester.test_loop(model, X_test, y_test)\n",
    "    accuracy.append(TrainerTester.test_and_show(model, X_test[:50], y_test[:50]).tolist())\n",
    "\n",
    "plt.imshow(accuracy, cmap=\"Blues\")"
   ],
   "metadata": {
    "collapsed": false
   }
  },
  {
   "cell_type": "code",
   "execution_count": null,
   "outputs": [],
   "source": [
    "torch.save(model.state_dict(), 'model_states/model_states.txt')"
   ],
   "metadata": {
    "collapsed": false
   }
  },
  {
   "cell_type": "code",
   "execution_count": null,
   "outputs": [],
   "source": [
    "model.load_state_dict(torch.load('model_states/model_states.txt'))"
   ],
   "metadata": {
    "collapsed": false
   }
  },
  {
   "cell_type": "code",
   "execution_count": null,
   "outputs": [],
   "source": [],
   "metadata": {
    "collapsed": false
   }
  }
 ],
 "metadata": {
  "kernelspec": {
   "display_name": "Python 3",
   "language": "python",
   "name": "python3"
  },
  "language_info": {
   "codemirror_mode": {
    "name": "ipython",
    "version": 2
   },
   "file_extension": ".py",
   "mimetype": "text/x-python",
   "name": "python",
   "nbconvert_exporter": "python",
   "pygments_lexer": "ipython2",
   "version": "2.7.6"
  }
 },
 "nbformat": 4,
 "nbformat_minor": 0
}
